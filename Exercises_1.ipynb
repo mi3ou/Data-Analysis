{
  "cells": [
    {
      "cell_type": "markdown",
      "metadata": {
        "id": "NhjIl0KCPJdS"
      },
      "source": [
        "![rmotr](https://user-images.githubusercontent.com/7065401/52071918-bda15380-2562-11e9-828c-7f95297e4a82.png)\n",
        "<hr style=\"margin-bottom: 40px;\">\n",
        "\n",
        "<img src=\"https://user-images.githubusercontent.com/7065401/58563302-42466a80-8201-11e9-9948-b3e9f88a5662.jpg\"\n",
        "    style=\"width:400px; float: right; margin: 0 40px 40px 40px;\"></img>\n",
        "\n",
        "# Exercises\n",
        "## Bike store sales"
      ]
    },
    {
      "cell_type": "markdown",
      "metadata": {
        "id": "IY0_8bt5PJdT"
      },
      "source": [
        "![purple-divider](https://user-images.githubusercontent.com/7065401/52071927-c1cd7100-2562-11e9-908a-dde91ba14e59.png)\n",
        "\n",
        "## Hands on!"
      ]
    },
    {
      "cell_type": "code",
      "execution_count": 1,
      "metadata": {
        "id": "QSwz9xe7PJdT"
      },
      "outputs": [],
      "source": [
        "import numpy as np\n",
        "import pandas as pd\n",
        "import matplotlib.pyplot as plt\n",
        "\n",
        "%matplotlib inline"
      ]
    },
    {
      "cell_type": "code",
      "execution_count": 2,
      "metadata": {
        "id": "tGBjFev5PJdT"
      },
      "outputs": [],
      "source": [
        "sales = pd.read_csv(\n",
        "    'sales_data.csv',\n",
        "    parse_dates=['Date'])"
      ]
    },
    {
      "cell_type": "code",
      "execution_count": 3,
      "metadata": {
        "colab": {
          "base_uri": "https://localhost:8080/",
          "height": 399
        },
        "id": "wBrUSgFTPJdU",
        "outputId": "a1367e65-87f0-431b-95e4-3811a7f27a7c"
      },
      "outputs": [
        {
          "output_type": "execute_result",
          "data": {
            "text/plain": [
              "        Date  Day     Month  Year  Customer_Age       Age_Group  \\\n",
              "0 2013-11-26   26  November  2013            19     Youth (<25)   \n",
              "1 2015-11-26   26  November  2015            19     Youth (<25)   \n",
              "2 2014-03-23   23     March  2014            49  Adults (35-64)   \n",
              "3 2016-03-23   23     March  2016            49  Adults (35-64)   \n",
              "4 2014-05-15   15       May  2014            47  Adults (35-64)   \n",
              "\n",
              "  Customer_Gender    Country             State Product_Category Sub_Category  \\\n",
              "0               M     Canada  British Columbia      Accessories   Bike Racks   \n",
              "1               M     Canada  British Columbia      Accessories   Bike Racks   \n",
              "2               M  Australia   New South Wales      Accessories   Bike Racks   \n",
              "3               M  Australia   New South Wales      Accessories   Bike Racks   \n",
              "4               F  Australia   New South Wales      Accessories   Bike Racks   \n",
              "\n",
              "               Product  Order_Quantity  Unit_Cost  Unit_Price  Profit    Cost  \\\n",
              "0  Hitch Rack - 4-Bike             8.0       45.0       120.0   590.0   360.0   \n",
              "1  Hitch Rack - 4-Bike             8.0       45.0       120.0   590.0   360.0   \n",
              "2  Hitch Rack - 4-Bike            23.0       45.0       120.0  1366.0  1035.0   \n",
              "3  Hitch Rack - 4-Bike            20.0       45.0       120.0  1188.0   900.0   \n",
              "4  Hitch Rack - 4-Bike             4.0       45.0       120.0   238.0   180.0   \n",
              "\n",
              "   Revenue  \n",
              "0    950.0  \n",
              "1    950.0  \n",
              "2   2401.0  \n",
              "3   2088.0  \n",
              "4    418.0  "
            ],
            "text/html": [
              "\n",
              "  <div id=\"df-c11058b2-1388-46c3-b337-9499b1e82abb\" class=\"colab-df-container\">\n",
              "    <div>\n",
              "<style scoped>\n",
              "    .dataframe tbody tr th:only-of-type {\n",
              "        vertical-align: middle;\n",
              "    }\n",
              "\n",
              "    .dataframe tbody tr th {\n",
              "        vertical-align: top;\n",
              "    }\n",
              "\n",
              "    .dataframe thead th {\n",
              "        text-align: right;\n",
              "    }\n",
              "</style>\n",
              "<table border=\"1\" class=\"dataframe\">\n",
              "  <thead>\n",
              "    <tr style=\"text-align: right;\">\n",
              "      <th></th>\n",
              "      <th>Date</th>\n",
              "      <th>Day</th>\n",
              "      <th>Month</th>\n",
              "      <th>Year</th>\n",
              "      <th>Customer_Age</th>\n",
              "      <th>Age_Group</th>\n",
              "      <th>Customer_Gender</th>\n",
              "      <th>Country</th>\n",
              "      <th>State</th>\n",
              "      <th>Product_Category</th>\n",
              "      <th>Sub_Category</th>\n",
              "      <th>Product</th>\n",
              "      <th>Order_Quantity</th>\n",
              "      <th>Unit_Cost</th>\n",
              "      <th>Unit_Price</th>\n",
              "      <th>Profit</th>\n",
              "      <th>Cost</th>\n",
              "      <th>Revenue</th>\n",
              "    </tr>\n",
              "  </thead>\n",
              "  <tbody>\n",
              "    <tr>\n",
              "      <th>0</th>\n",
              "      <td>2013-11-26</td>\n",
              "      <td>26</td>\n",
              "      <td>November</td>\n",
              "      <td>2013</td>\n",
              "      <td>19</td>\n",
              "      <td>Youth (&lt;25)</td>\n",
              "      <td>M</td>\n",
              "      <td>Canada</td>\n",
              "      <td>British Columbia</td>\n",
              "      <td>Accessories</td>\n",
              "      <td>Bike Racks</td>\n",
              "      <td>Hitch Rack - 4-Bike</td>\n",
              "      <td>8.0</td>\n",
              "      <td>45.0</td>\n",
              "      <td>120.0</td>\n",
              "      <td>590.0</td>\n",
              "      <td>360.0</td>\n",
              "      <td>950.0</td>\n",
              "    </tr>\n",
              "    <tr>\n",
              "      <th>1</th>\n",
              "      <td>2015-11-26</td>\n",
              "      <td>26</td>\n",
              "      <td>November</td>\n",
              "      <td>2015</td>\n",
              "      <td>19</td>\n",
              "      <td>Youth (&lt;25)</td>\n",
              "      <td>M</td>\n",
              "      <td>Canada</td>\n",
              "      <td>British Columbia</td>\n",
              "      <td>Accessories</td>\n",
              "      <td>Bike Racks</td>\n",
              "      <td>Hitch Rack - 4-Bike</td>\n",
              "      <td>8.0</td>\n",
              "      <td>45.0</td>\n",
              "      <td>120.0</td>\n",
              "      <td>590.0</td>\n",
              "      <td>360.0</td>\n",
              "      <td>950.0</td>\n",
              "    </tr>\n",
              "    <tr>\n",
              "      <th>2</th>\n",
              "      <td>2014-03-23</td>\n",
              "      <td>23</td>\n",
              "      <td>March</td>\n",
              "      <td>2014</td>\n",
              "      <td>49</td>\n",
              "      <td>Adults (35-64)</td>\n",
              "      <td>M</td>\n",
              "      <td>Australia</td>\n",
              "      <td>New South Wales</td>\n",
              "      <td>Accessories</td>\n",
              "      <td>Bike Racks</td>\n",
              "      <td>Hitch Rack - 4-Bike</td>\n",
              "      <td>23.0</td>\n",
              "      <td>45.0</td>\n",
              "      <td>120.0</td>\n",
              "      <td>1366.0</td>\n",
              "      <td>1035.0</td>\n",
              "      <td>2401.0</td>\n",
              "    </tr>\n",
              "    <tr>\n",
              "      <th>3</th>\n",
              "      <td>2016-03-23</td>\n",
              "      <td>23</td>\n",
              "      <td>March</td>\n",
              "      <td>2016</td>\n",
              "      <td>49</td>\n",
              "      <td>Adults (35-64)</td>\n",
              "      <td>M</td>\n",
              "      <td>Australia</td>\n",
              "      <td>New South Wales</td>\n",
              "      <td>Accessories</td>\n",
              "      <td>Bike Racks</td>\n",
              "      <td>Hitch Rack - 4-Bike</td>\n",
              "      <td>20.0</td>\n",
              "      <td>45.0</td>\n",
              "      <td>120.0</td>\n",
              "      <td>1188.0</td>\n",
              "      <td>900.0</td>\n",
              "      <td>2088.0</td>\n",
              "    </tr>\n",
              "    <tr>\n",
              "      <th>4</th>\n",
              "      <td>2014-05-15</td>\n",
              "      <td>15</td>\n",
              "      <td>May</td>\n",
              "      <td>2014</td>\n",
              "      <td>47</td>\n",
              "      <td>Adults (35-64)</td>\n",
              "      <td>F</td>\n",
              "      <td>Australia</td>\n",
              "      <td>New South Wales</td>\n",
              "      <td>Accessories</td>\n",
              "      <td>Bike Racks</td>\n",
              "      <td>Hitch Rack - 4-Bike</td>\n",
              "      <td>4.0</td>\n",
              "      <td>45.0</td>\n",
              "      <td>120.0</td>\n",
              "      <td>238.0</td>\n",
              "      <td>180.0</td>\n",
              "      <td>418.0</td>\n",
              "    </tr>\n",
              "  </tbody>\n",
              "</table>\n",
              "</div>\n",
              "    <div class=\"colab-df-buttons\">\n",
              "\n",
              "  <div class=\"colab-df-container\">\n",
              "    <button class=\"colab-df-convert\" onclick=\"convertToInteractive('df-c11058b2-1388-46c3-b337-9499b1e82abb')\"\n",
              "            title=\"Convert this dataframe to an interactive table.\"\n",
              "            style=\"display:none;\">\n",
              "\n",
              "  <svg xmlns=\"http://www.w3.org/2000/svg\" height=\"24px\" viewBox=\"0 -960 960 960\">\n",
              "    <path d=\"M120-120v-720h720v720H120Zm60-500h600v-160H180v160Zm220 220h160v-160H400v160Zm0 220h160v-160H400v160ZM180-400h160v-160H180v160Zm440 0h160v-160H620v160ZM180-180h160v-160H180v160Zm440 0h160v-160H620v160Z\"/>\n",
              "  </svg>\n",
              "    </button>\n",
              "\n",
              "  <style>\n",
              "    .colab-df-container {\n",
              "      display:flex;\n",
              "      gap: 12px;\n",
              "    }\n",
              "\n",
              "    .colab-df-convert {\n",
              "      background-color: #E8F0FE;\n",
              "      border: none;\n",
              "      border-radius: 50%;\n",
              "      cursor: pointer;\n",
              "      display: none;\n",
              "      fill: #1967D2;\n",
              "      height: 32px;\n",
              "      padding: 0 0 0 0;\n",
              "      width: 32px;\n",
              "    }\n",
              "\n",
              "    .colab-df-convert:hover {\n",
              "      background-color: #E2EBFA;\n",
              "      box-shadow: 0px 1px 2px rgba(60, 64, 67, 0.3), 0px 1px 3px 1px rgba(60, 64, 67, 0.15);\n",
              "      fill: #174EA6;\n",
              "    }\n",
              "\n",
              "    .colab-df-buttons div {\n",
              "      margin-bottom: 4px;\n",
              "    }\n",
              "\n",
              "    [theme=dark] .colab-df-convert {\n",
              "      background-color: #3B4455;\n",
              "      fill: #D2E3FC;\n",
              "    }\n",
              "\n",
              "    [theme=dark] .colab-df-convert:hover {\n",
              "      background-color: #434B5C;\n",
              "      box-shadow: 0px 1px 3px 1px rgba(0, 0, 0, 0.15);\n",
              "      filter: drop-shadow(0px 1px 2px rgba(0, 0, 0, 0.3));\n",
              "      fill: #FFFFFF;\n",
              "    }\n",
              "  </style>\n",
              "\n",
              "    <script>\n",
              "      const buttonEl =\n",
              "        document.querySelector('#df-c11058b2-1388-46c3-b337-9499b1e82abb button.colab-df-convert');\n",
              "      buttonEl.style.display =\n",
              "        google.colab.kernel.accessAllowed ? 'block' : 'none';\n",
              "\n",
              "      async function convertToInteractive(key) {\n",
              "        const element = document.querySelector('#df-c11058b2-1388-46c3-b337-9499b1e82abb');\n",
              "        const dataTable =\n",
              "          await google.colab.kernel.invokeFunction('convertToInteractive',\n",
              "                                                    [key], {});\n",
              "        if (!dataTable) return;\n",
              "\n",
              "        const docLinkHtml = 'Like what you see? Visit the ' +\n",
              "          '<a target=\"_blank\" href=https://colab.research.google.com/notebooks/data_table.ipynb>data table notebook</a>'\n",
              "          + ' to learn more about interactive tables.';\n",
              "        element.innerHTML = '';\n",
              "        dataTable['output_type'] = 'display_data';\n",
              "        await google.colab.output.renderOutput(dataTable, element);\n",
              "        const docLink = document.createElement('div');\n",
              "        docLink.innerHTML = docLinkHtml;\n",
              "        element.appendChild(docLink);\n",
              "      }\n",
              "    </script>\n",
              "  </div>\n",
              "\n",
              "\n",
              "    <div id=\"df-b2640ba9-88a6-4076-b228-dace24e52e9e\">\n",
              "      <button class=\"colab-df-quickchart\" onclick=\"quickchart('df-b2640ba9-88a6-4076-b228-dace24e52e9e')\"\n",
              "                title=\"Suggest charts\"\n",
              "                style=\"display:none;\">\n",
              "\n",
              "<svg xmlns=\"http://www.w3.org/2000/svg\" height=\"24px\"viewBox=\"0 0 24 24\"\n",
              "     width=\"24px\">\n",
              "    <g>\n",
              "        <path d=\"M19 3H5c-1.1 0-2 .9-2 2v14c0 1.1.9 2 2 2h14c1.1 0 2-.9 2-2V5c0-1.1-.9-2-2-2zM9 17H7v-7h2v7zm4 0h-2V7h2v10zm4 0h-2v-4h2v4z\"/>\n",
              "    </g>\n",
              "</svg>\n",
              "      </button>\n",
              "\n",
              "<style>\n",
              "  .colab-df-quickchart {\n",
              "      --bg-color: #E8F0FE;\n",
              "      --fill-color: #1967D2;\n",
              "      --hover-bg-color: #E2EBFA;\n",
              "      --hover-fill-color: #174EA6;\n",
              "      --disabled-fill-color: #AAA;\n",
              "      --disabled-bg-color: #DDD;\n",
              "  }\n",
              "\n",
              "  [theme=dark] .colab-df-quickchart {\n",
              "      --bg-color: #3B4455;\n",
              "      --fill-color: #D2E3FC;\n",
              "      --hover-bg-color: #434B5C;\n",
              "      --hover-fill-color: #FFFFFF;\n",
              "      --disabled-bg-color: #3B4455;\n",
              "      --disabled-fill-color: #666;\n",
              "  }\n",
              "\n",
              "  .colab-df-quickchart {\n",
              "    background-color: var(--bg-color);\n",
              "    border: none;\n",
              "    border-radius: 50%;\n",
              "    cursor: pointer;\n",
              "    display: none;\n",
              "    fill: var(--fill-color);\n",
              "    height: 32px;\n",
              "    padding: 0;\n",
              "    width: 32px;\n",
              "  }\n",
              "\n",
              "  .colab-df-quickchart:hover {\n",
              "    background-color: var(--hover-bg-color);\n",
              "    box-shadow: 0 1px 2px rgba(60, 64, 67, 0.3), 0 1px 3px 1px rgba(60, 64, 67, 0.15);\n",
              "    fill: var(--button-hover-fill-color);\n",
              "  }\n",
              "\n",
              "  .colab-df-quickchart-complete:disabled,\n",
              "  .colab-df-quickchart-complete:disabled:hover {\n",
              "    background-color: var(--disabled-bg-color);\n",
              "    fill: var(--disabled-fill-color);\n",
              "    box-shadow: none;\n",
              "  }\n",
              "\n",
              "  .colab-df-spinner {\n",
              "    border: 2px solid var(--fill-color);\n",
              "    border-color: transparent;\n",
              "    border-bottom-color: var(--fill-color);\n",
              "    animation:\n",
              "      spin 1s steps(1) infinite;\n",
              "  }\n",
              "\n",
              "  @keyframes spin {\n",
              "    0% {\n",
              "      border-color: transparent;\n",
              "      border-bottom-color: var(--fill-color);\n",
              "      border-left-color: var(--fill-color);\n",
              "    }\n",
              "    20% {\n",
              "      border-color: transparent;\n",
              "      border-left-color: var(--fill-color);\n",
              "      border-top-color: var(--fill-color);\n",
              "    }\n",
              "    30% {\n",
              "      border-color: transparent;\n",
              "      border-left-color: var(--fill-color);\n",
              "      border-top-color: var(--fill-color);\n",
              "      border-right-color: var(--fill-color);\n",
              "    }\n",
              "    40% {\n",
              "      border-color: transparent;\n",
              "      border-right-color: var(--fill-color);\n",
              "      border-top-color: var(--fill-color);\n",
              "    }\n",
              "    60% {\n",
              "      border-color: transparent;\n",
              "      border-right-color: var(--fill-color);\n",
              "    }\n",
              "    80% {\n",
              "      border-color: transparent;\n",
              "      border-right-color: var(--fill-color);\n",
              "      border-bottom-color: var(--fill-color);\n",
              "    }\n",
              "    90% {\n",
              "      border-color: transparent;\n",
              "      border-bottom-color: var(--fill-color);\n",
              "    }\n",
              "  }\n",
              "</style>\n",
              "\n",
              "      <script>\n",
              "        async function quickchart(key) {\n",
              "          const quickchartButtonEl =\n",
              "            document.querySelector('#' + key + ' button');\n",
              "          quickchartButtonEl.disabled = true;  // To prevent multiple clicks.\n",
              "          quickchartButtonEl.classList.add('colab-df-spinner');\n",
              "          try {\n",
              "            const charts = await google.colab.kernel.invokeFunction(\n",
              "                'suggestCharts', [key], {});\n",
              "          } catch (error) {\n",
              "            console.error('Error during call to suggestCharts:', error);\n",
              "          }\n",
              "          quickchartButtonEl.classList.remove('colab-df-spinner');\n",
              "          quickchartButtonEl.classList.add('colab-df-quickchart-complete');\n",
              "        }\n",
              "        (() => {\n",
              "          let quickchartButtonEl =\n",
              "            document.querySelector('#df-b2640ba9-88a6-4076-b228-dace24e52e9e button');\n",
              "          quickchartButtonEl.style.display =\n",
              "            google.colab.kernel.accessAllowed ? 'block' : 'none';\n",
              "        })();\n",
              "      </script>\n",
              "    </div>\n",
              "\n",
              "    </div>\n",
              "  </div>\n"
            ],
            "application/vnd.google.colaboratory.intrinsic+json": {
              "type": "dataframe",
              "variable_name": "sales",
              "summary": "{\n  \"name\": \"sales\",\n  \"rows\": 62205,\n  \"fields\": [\n    {\n      \"column\": \"Date\",\n      \"properties\": {\n        \"dtype\": \"date\",\n        \"min\": \"2011-01-01 00:00:00\",\n        \"max\": \"2016-07-31 00:00:00\",\n        \"num_unique_values\": 1840,\n        \"samples\": [\n          \"2012-11-03 00:00:00\",\n          \"2011-07-16 00:00:00\",\n          \"2013-11-25 00:00:00\"\n        ],\n        \"semantic_type\": \"\",\n        \"description\": \"\"\n      }\n    },\n    {\n      \"column\": \"Day\",\n      \"properties\": {\n        \"dtype\": \"number\",\n        \"std\": 8,\n        \"min\": 1,\n        \"max\": 31,\n        \"num_unique_values\": 31,\n        \"samples\": [\n          8,\n          24,\n          16\n        ],\n        \"semantic_type\": \"\",\n        \"description\": \"\"\n      }\n    },\n    {\n      \"column\": \"Month\",\n      \"properties\": {\n        \"dtype\": \"category\",\n        \"num_unique_values\": 12,\n        \"samples\": [\n          \"October\",\n          \"June\",\n          \"November\"\n        ],\n        \"semantic_type\": \"\",\n        \"description\": \"\"\n      }\n    },\n    {\n      \"column\": \"Year\",\n      \"properties\": {\n        \"dtype\": \"number\",\n        \"std\": 1,\n        \"min\": 2011,\n        \"max\": 2016,\n        \"num_unique_values\": 6,\n        \"samples\": [\n          2013,\n          2015,\n          2011\n        ],\n        \"semantic_type\": \"\",\n        \"description\": \"\"\n      }\n    },\n    {\n      \"column\": \"Customer_Age\",\n      \"properties\": {\n        \"dtype\": \"number\",\n        \"std\": 10,\n        \"min\": 2,\n        \"max\": 87,\n        \"num_unique_values\": 70,\n        \"samples\": [\n          45,\n          19,\n          60\n        ],\n        \"semantic_type\": \"\",\n        \"description\": \"\"\n      }\n    },\n    {\n      \"column\": \"Age_Group\",\n      \"properties\": {\n        \"dtype\": \"category\",\n        \"num_unique_values\": 4,\n        \"samples\": [\n          \"Adults (35-64)\",\n          \"Seniors (64+)\",\n          \"Youth (<25)\"\n        ],\n        \"semantic_type\": \"\",\n        \"description\": \"\"\n      }\n    },\n    {\n      \"column\": \"Customer_Gender\",\n      \"properties\": {\n        \"dtype\": \"category\",\n        \"num_unique_values\": 2,\n        \"samples\": [\n          \"F\",\n          \"M\"\n        ],\n        \"semantic_type\": \"\",\n        \"description\": \"\"\n      }\n    },\n    {\n      \"column\": \"Country\",\n      \"properties\": {\n        \"dtype\": \"category\",\n        \"num_unique_values\": 6,\n        \"samples\": [\n          \"Canada\",\n          \"Australia\"\n        ],\n        \"semantic_type\": \"\",\n        \"description\": \"\"\n      }\n    },\n    {\n      \"column\": \"State\",\n      \"properties\": {\n        \"dtype\": \"category\",\n        \"num_unique_values\": 52,\n        \"samples\": [\n          \"Loiret\",\n          \"Virginia\"\n        ],\n        \"semantic_type\": \"\",\n        \"description\": \"\"\n      }\n    },\n    {\n      \"column\": \"Product_Category\",\n      \"properties\": {\n        \"dtype\": \"category\",\n        \"num_unique_values\": 3,\n        \"samples\": [\n          \"Accessories\",\n          \"Clothing\"\n        ],\n        \"semantic_type\": \"\",\n        \"description\": \"\"\n      }\n    },\n    {\n      \"column\": \"Sub_Category\",\n      \"properties\": {\n        \"dtype\": \"category\",\n        \"num_unique_values\": 12,\n        \"samples\": [\n          \"Mountain Bikes\",\n          \"Jerseys\"\n        ],\n        \"semantic_type\": \"\",\n        \"description\": \"\"\n      }\n    },\n    {\n      \"column\": \"Product\",\n      \"properties\": {\n        \"dtype\": \"category\",\n        \"num_unique_values\": 89,\n        \"samples\": [\n          \"Mountain-500 Black, 52\",\n          \"Road-750 Black, 48\"\n        ],\n        \"semantic_type\": \"\",\n        \"description\": \"\"\n      }\n    },\n    {\n      \"column\": \"Order_Quantity\",\n      \"properties\": {\n        \"dtype\": \"number\",\n        \"std\": 9.481290479477199,\n        \"min\": 1.0,\n        \"max\": 32.0,\n        \"num_unique_values\": 32,\n        \"samples\": [\n          18.0,\n          10.0\n        ],\n        \"semantic_type\": \"\",\n        \"description\": \"\"\n      }\n    },\n    {\n      \"column\": \"Unit_Cost\",\n      \"properties\": {\n        \"dtype\": \"number\",\n        \"std\": 544.5617378346153,\n        \"min\": 2.0,\n        \"max\": 2171.0,\n        \"num_unique_values\": 26,\n        \"samples\": [\n          13.0,\n          420.0\n        ],\n        \"semantic_type\": \"\",\n        \"description\": \"\"\n      }\n    },\n    {\n      \"column\": \"Unit_Price\",\n      \"properties\": {\n        \"dtype\": \"number\",\n        \"std\": 941.462451299019,\n        \"min\": 5.0,\n        \"max\": 3578.0,\n        \"num_unique_values\": 24,\n        \"samples\": [\n          35.0,\n          769.0\n        ],\n        \"semantic_type\": \"\",\n        \"description\": \"\"\n      }\n    },\n    {\n      \"column\": \"Profit\",\n      \"properties\": {\n        \"dtype\": \"number\",\n        \"std\": 473.62134859157413,\n        \"min\": -30.0,\n        \"max\": 5638.0,\n        \"num_unique_values\": 1056,\n        \"samples\": [\n          66.0,\n          2884.0\n        ],\n        \"semantic_type\": \"\",\n        \"description\": \"\"\n      }\n    },\n    {\n      \"column\": \"Cost\",\n      \"properties\": {\n        \"dtype\": \"number\",\n        \"std\": 865.7156193252937,\n        \"min\": 2.0,\n        \"max\": 8684.0,\n        \"num_unique_values\": 291,\n        \"samples\": [\n          22.0,\n          885.0\n        ],\n        \"semantic_type\": \"\",\n        \"description\": \"\"\n      }\n    },\n    {\n      \"column\": \"Revenue\",\n      \"properties\": {\n        \"dtype\": \"number\",\n        \"std\": 1309.3847667285909,\n        \"min\": 4.0,\n        \"max\": 14169.0,\n        \"num_unique_values\": 1568,\n        \"samples\": [\n          1514.0,\n          1362.0\n        ],\n        \"semantic_type\": \"\",\n        \"description\": \"\"\n      }\n    }\n  ]\n}"
            }
          },
          "metadata": {},
          "execution_count": 3
        }
      ],
      "source": [
        "sales.head()"
      ]
    },
    {
      "cell_type": "code",
      "source": [
        "sales.info()"
      ],
      "metadata": {
        "colab": {
          "base_uri": "https://localhost:8080/"
        },
        "id": "kBLmzGzSPojj",
        "outputId": "d78f3673-f84e-4040-b601-88642678f500"
      },
      "execution_count": 7,
      "outputs": [
        {
          "output_type": "stream",
          "name": "stdout",
          "text": [
            "<class 'pandas.core.frame.DataFrame'>\n",
            "RangeIndex: 62205 entries, 0 to 62204\n",
            "Data columns (total 18 columns):\n",
            " #   Column            Non-Null Count  Dtype         \n",
            "---  ------            --------------  -----         \n",
            " 0   Date              62205 non-null  datetime64[ns]\n",
            " 1   Day               62205 non-null  int64         \n",
            " 2   Month             62205 non-null  object        \n",
            " 3   Year              62205 non-null  int64         \n",
            " 4   Customer_Age      62205 non-null  int64         \n",
            " 5   Age_Group         62204 non-null  object        \n",
            " 6   Customer_Gender   62204 non-null  object        \n",
            " 7   Country           62204 non-null  object        \n",
            " 8   State             62204 non-null  object        \n",
            " 9   Product_Category  62204 non-null  object        \n",
            " 10  Sub_Category      62204 non-null  object        \n",
            " 11  Product           62204 non-null  object        \n",
            " 12  Order_Quantity    62204 non-null  float64       \n",
            " 13  Unit_Cost         62204 non-null  float64       \n",
            " 14  Unit_Price        62204 non-null  float64       \n",
            " 15  Profit            62204 non-null  float64       \n",
            " 16  Cost              62204 non-null  float64       \n",
            " 17  Revenue           62204 non-null  float64       \n",
            "dtypes: datetime64[ns](1), float64(6), int64(3), object(8)\n",
            "memory usage: 8.5+ MB\n"
          ]
        }
      ]
    },
    {
      "cell_type": "markdown",
      "metadata": {
        "id": "DcfkgNSfPJdU"
      },
      "source": [
        "![green-divider](https://user-images.githubusercontent.com/7065401/52071924-c003ad80-2562-11e9-8297-1c6595f8a7ff.png)\n",
        "\n",
        "### What's the mean of `Customers_Age`?"
      ]
    },
    {
      "cell_type": "code",
      "execution_count": 6,
      "metadata": {
        "colab": {
          "base_uri": "https://localhost:8080/"
        },
        "id": "K7HNb869PJdU",
        "outputId": "b3da1693-a4f5-42f3-f6ee-cb0cd4b93015"
      },
      "outputs": [
        {
          "output_type": "execute_result",
          "data": {
            "text/plain": [
              "np.float64(36.085780885780885)"
            ]
          },
          "metadata": {},
          "execution_count": 6
        }
      ],
      "source": [
        "# your code goes here\n",
        "sales[\"Customer_Age\"].mean()"
      ]
    },
    {
      "cell_type": "markdown",
      "metadata": {
        "cell_type": "hint",
        "id": "bb-6K1hQPJdU"
      },
      "source": [
        "Why don't you try with `.mean()`"
      ]
    },
    {
      "cell_type": "code",
      "execution_count": 10,
      "metadata": {
        "cell_type": "solution",
        "colab": {
          "base_uri": "https://localhost:8080/"
        },
        "id": "SmfKU6SNPJdU",
        "outputId": "75e1c33b-0cbc-49f8-c179-52da157dd0a5"
      },
      "outputs": [
        {
          "output_type": "execute_result",
          "data": {
            "text/plain": [
              "35.0"
            ]
          },
          "metadata": {},
          "execution_count": 10
        }
      ],
      "source": [
        "sales['Customer_Age'].median()"
      ]
    },
    {
      "cell_type": "markdown",
      "metadata": {
        "id": "tyV65dFBPJdU"
      },
      "source": [
        "Go ahead and show a <b>density (KDE)</b> and a <b>box plot</b> with the `Customer_Age` data:"
      ]
    },
    {
      "cell_type": "code",
      "execution_count": 8,
      "metadata": {
        "colab": {
          "base_uri": "https://localhost:8080/",
          "height": 369
        },
        "id": "lUDfUIkCPJdU",
        "outputId": "a1e0a185-c7de-46f5-91b4-d58c57969a16"
      },
      "outputs": [
        {
          "output_type": "execute_result",
          "data": {
            "text/plain": [
              "<Axes: ylabel='Density'>"
            ]
          },
          "metadata": {},
          "execution_count": 8
        },
        {
          "output_type": "display_data",
          "data": {
            "text/plain": [
              "<Figure size 1400x600 with 1 Axes>"
            ],
            "image/png": "[encoded data removed]"
          },
          "metadata": {}
        }
      ],
      "source": [
        "# your code goes here\n",
        "sales[\"Customer_Age\"].plot(kind='kde', figsize= (14,6))"
      ]
    },
    {
      "cell_type": "code",
      "execution_count": null,
      "metadata": {
        "cell_type": "solution",
        "id": "ZgC1d-kAPJdV"
      },
      "outputs": [],
      "source": [
        "sales['Customer_Age'].plot(kind='kde', figsize=(14,6))"
      ]
    },
    {
      "cell_type": "code",
      "execution_count": 9,
      "metadata": {
        "cell_type": "solution",
        "colab": {
          "base_uri": "https://localhost:8080/",
          "height": 358
        },
        "id": "oUFlLgVrPJdV",
        "outputId": "e0227e33-439c-4011-94d4-2d18f13118b2"
      },
      "outputs": [
        {
          "output_type": "execute_result",
          "data": {
            "text/plain": [
              "<Axes: >"
            ]
          },
          "metadata": {},
          "execution_count": 9
        },
        {
          "output_type": "display_data",
          "data": {
            "text/plain": [
              "<Figure size 1400x600 with 1 Axes>"
            ],
            "image/png": "[encoded data removed]"
          },
          "metadata": {}
        }
      ],
      "source": [
        "sales['Customer_Age'].plot(kind='box', vert=False, figsize=(14,6))"
      ]
    },
    {
      "cell_type": "markdown",
      "metadata": {
        "id": "kO6oTO99PJdV"
      },
      "source": [
        "![green-divider](https://user-images.githubusercontent.com/7065401/52071924-c003ad80-2562-11e9-8297-1c6595f8a7ff.png)\n",
        "\n",
        "### What's the mean of `Order_Quantity`?"
      ]
    },
    {
      "cell_type": "code",
      "execution_count": 15,
      "metadata": {
        "colab": {
          "base_uri": "https://localhost:8080/"
        },
        "id": "mjuX36CmPJdV",
        "outputId": "3247e4ba-4c31-435a-c435-2a4fe520f47f"
      },
      "outputs": [
        {
          "output_type": "execute_result",
          "data": {
            "text/plain": [
              "np.float64(12.114285254967527)"
            ]
          },
          "metadata": {},
          "execution_count": 15
        }
      ],
      "source": [
        "# your code goes here\n",
        "sales['Order_Quantity'].mean()"
      ]
    },
    {
      "cell_type": "code",
      "execution_count": null,
      "metadata": {
        "cell_type": "solution",
        "id": "YnPKPhC1PJdV"
      },
      "outputs": [],
      "source": [
        "sales['Order_Quantity'].mean()"
      ]
    },
    {
      "cell_type": "markdown",
      "metadata": {
        "id": "zZgmNnkxPJdV"
      },
      "source": [
        "Go ahead and show a <b>histogram</b> and a <b>box plot</b> with the `Order_Quantity` data:"
      ]
    },
    {
      "cell_type": "code",
      "execution_count": 20,
      "metadata": {
        "colab": {
          "base_uri": "https://localhost:8080/",
          "height": 368
        },
        "id": "MUSscM6aPJdV",
        "outputId": "26293140-aba7-4e0e-813b-d8ec3173fa83"
      },
      "outputs": [
        {
          "output_type": "execute_result",
          "data": {
            "text/plain": [
              "<Axes: ylabel='Frequency'>"
            ]
          },
          "metadata": {},
          "execution_count": 20
        },
        {
          "output_type": "display_data",
          "data": {
            "text/plain": [
              "<Figure size 1400x600 with 1 Axes>"
            ],
            "image/png": "[encoded data removed]"
          },
          "metadata": {}
        }
      ],
      "source": [
        "# your code goes here\n",
        "sales[\"Order_Quantity\"].plot(kind='hist',bins=30,figsize = (14,6))"
      ]
    },
    {
      "cell_type": "code",
      "execution_count": 19,
      "metadata": {
        "cell_type": "solution",
        "colab": {
          "base_uri": "https://localhost:8080/",
          "height": 368
        },
        "id": "lx4R1gHsPJdV",
        "outputId": "3d152bdc-d399-4b1b-a533-411b69fabcd6"
      },
      "outputs": [
        {
          "output_type": "execute_result",
          "data": {
            "text/plain": [
              "<Axes: ylabel='Frequency'>"
            ]
          },
          "metadata": {},
          "execution_count": 19
        },
        {
          "output_type": "display_data",
          "data": {
            "text/plain": [
              "<Figure size 1400x600 with 1 Axes>"
            ],
            "image/png": "[encoded data removed]"
          },
          "metadata": {}
        }
      ],
      "source": [
        "sales['Order_Quantity'].plot(kind='hist', bins=30, figsize=(14,6))"
      ]
    },
    {
      "cell_type": "code",
      "execution_count": null,
      "metadata": {
        "cell_type": "solution",
        "id": "0FLLWTIPPJdV"
      },
      "outputs": [],
      "source": [
        "sales['Order_Quantity'].plot(kind='box', vert=False, figsize=(14,6))"
      ]
    },
    {
      "cell_type": "markdown",
      "metadata": {
        "id": "YCsF5XPwPJdV"
      },
      "source": [
        "![green-divider](https://user-images.githubusercontent.com/7065401/52071924-c003ad80-2562-11e9-8297-1c6595f8a7ff.png)\n",
        "\n",
        "### How many sales per year do we have?"
      ]
    },
    {
      "cell_type": "code",
      "execution_count": 22,
      "metadata": {
        "colab": {
          "base_uri": "https://localhost:8080/",
          "height": 303
        },
        "id": "TTEvAirNPJdW",
        "outputId": "2bfe5383-a9e8-4a46-92da-5bf9eee70faa"
      },
      "outputs": [
        {
          "output_type": "execute_result",
          "data": {
            "text/plain": [
              "Year\n",
              "2016    16294\n",
              "2014    16294\n",
              "2013    13480\n",
              "2015    13479\n",
              "2012     1329\n",
              "2011     1329\n",
              "Name: count, dtype: int64"
            ],
            "text/html": [
              "<div>\n",
              "<style scoped>\n",
              "    .dataframe tbody tr th:only-of-type {\n",
              "        vertical-align: middle;\n",
              "    }\n",
              "\n",
              "    .dataframe tbody tr th {\n",
              "        vertical-align: top;\n",
              "    }\n",
              "\n",
              "    .dataframe thead th {\n",
              "        text-align: right;\n",
              "    }\n",
              "</style>\n",
              "<table border=\"1\" class=\"dataframe\">\n",
              "  <thead>\n",
              "    <tr style=\"text-align: right;\">\n",
              "      <th></th>\n",
              "      <th>count</th>\n",
              "    </tr>\n",
              "    <tr>\n",
              "      <th>Year</th>\n",
              "      <th></th>\n",
              "    </tr>\n",
              "  </thead>\n",
              "  <tbody>\n",
              "    <tr>\n",
              "      <th>2016</th>\n",
              "      <td>16294</td>\n",
              "    </tr>\n",
              "    <tr>\n",
              "      <th>2014</th>\n",
              "      <td>16294</td>\n",
              "    </tr>\n",
              "    <tr>\n",
              "      <th>2013</th>\n",
              "      <td>13480</td>\n",
              "    </tr>\n",
              "    <tr>\n",
              "      <th>2015</th>\n",
              "      <td>13479</td>\n",
              "    </tr>\n",
              "    <tr>\n",
              "      <th>2012</th>\n",
              "      <td>1329</td>\n",
              "    </tr>\n",
              "    <tr>\n",
              "      <th>2011</th>\n",
              "      <td>1329</td>\n",
              "    </tr>\n",
              "  </tbody>\n",
              "</table>\n",
              "</div><br><label><b>dtype:</b> int64</label>"
            ]
          },
          "metadata": {},
          "execution_count": 22
        }
      ],
      "source": [
        "# your code goes here\n",
        "sales['Year'].value_counts()"
      ]
    },
    {
      "cell_type": "code",
      "execution_count": 23,
      "metadata": {
        "cell_type": "solution",
        "colab": {
          "base_uri": "https://localhost:8080/",
          "height": 303
        },
        "id": "nYWEJOsFPJdW",
        "outputId": "55bcd5c0-1bb8-4250-8d82-c88ee9fb3d58"
      },
      "outputs": [
        {
          "output_type": "execute_result",
          "data": {
            "text/plain": [
              "Year\n",
              "2016    16294\n",
              "2014    16294\n",
              "2013    13480\n",
              "2015    13479\n",
              "2012     1329\n",
              "2011     1329\n",
              "Name: count, dtype: int64"
            ],
            "text/html": [
              "<div>\n",
              "<style scoped>\n",
              "    .dataframe tbody tr th:only-of-type {\n",
              "        vertical-align: middle;\n",
              "    }\n",
              "\n",
              "    .dataframe tbody tr th {\n",
              "        vertical-align: top;\n",
              "    }\n",
              "\n",
              "    .dataframe thead th {\n",
              "        text-align: right;\n",
              "    }\n",
              "</style>\n",
              "<table border=\"1\" class=\"dataframe\">\n",
              "  <thead>\n",
              "    <tr style=\"text-align: right;\">\n",
              "      <th></th>\n",
              "      <th>count</th>\n",
              "    </tr>\n",
              "    <tr>\n",
              "      <th>Year</th>\n",
              "      <th></th>\n",
              "    </tr>\n",
              "  </thead>\n",
              "  <tbody>\n",
              "    <tr>\n",
              "      <th>2016</th>\n",
              "      <td>16294</td>\n",
              "    </tr>\n",
              "    <tr>\n",
              "      <th>2014</th>\n",
              "      <td>16294</td>\n",
              "    </tr>\n",
              "    <tr>\n",
              "      <th>2013</th>\n",
              "      <td>13480</td>\n",
              "    </tr>\n",
              "    <tr>\n",
              "      <th>2015</th>\n",
              "      <td>13479</td>\n",
              "    </tr>\n",
              "    <tr>\n",
              "      <th>2012</th>\n",
              "      <td>1329</td>\n",
              "    </tr>\n",
              "    <tr>\n",
              "      <th>2011</th>\n",
              "      <td>1329</td>\n",
              "    </tr>\n",
              "  </tbody>\n",
              "</table>\n",
              "</div><br><label><b>dtype:</b> int64</label>"
            ]
          },
          "metadata": {},
          "execution_count": 23
        }
      ],
      "source": [
        "sales['Year'].value_counts()"
      ]
    },
    {
      "cell_type": "markdown",
      "metadata": {
        "id": "MzGgx-lkPJdW"
      },
      "source": [
        "Go ahead and show a <b>pie plot</b> with the previous data:"
      ]
    },
    {
      "cell_type": "code",
      "execution_count": 25,
      "metadata": {
        "colab": {
          "base_uri": "https://localhost:8080/",
          "height": 517
        },
        "id": "uAJeJAhcPJdW",
        "outputId": "19302c82-8a0c-4c65-c65c-313462c55075"
      },
      "outputs": [
        {
          "output_type": "execute_result",
          "data": {
            "text/plain": [
              "<Axes: ylabel='count'>"
            ]
          },
          "metadata": {},
          "execution_count": 25
        },
        {
          "output_type": "display_data",
          "data": {
            "text/plain": [
              "<Figure size 600x600 with 1 Axes>"
            ],
            "image/png": "[encoded data removed]"
          },
          "metadata": {}
        }
      ],
      "source": [
        "# your code goes here\n",
        "sales['Year'].value_counts().plot(kind='pie', figsize = (6,6))"
      ]
    },
    {
      "cell_type": "code",
      "execution_count": null,
      "metadata": {
        "cell_type": "solution",
        "id": "_s_F6uAwPJdW"
      },
      "outputs": [],
      "source": [
        "sales['Year'].value_counts().plot(kind='pie', figsize=(6,6))"
      ]
    },
    {
      "cell_type": "markdown",
      "metadata": {
        "id": "_NGhHGDZPJdW"
      },
      "source": [
        "![green-divider](https://user-images.githubusercontent.com/7065401/52071924-c003ad80-2562-11e9-8297-1c6595f8a7ff.png)\n",
        "\n",
        "### How many sales per month do we have?"
      ]
    },
    {
      "cell_type": "code",
      "execution_count": 26,
      "metadata": {
        "colab": {
          "base_uri": "https://localhost:8080/",
          "height": 491
        },
        "id": "9q8QlzxzPJdW",
        "outputId": "00a7d9d6-e530-4de0-e6dc-c023bda160d2"
      },
      "outputs": [
        {
          "output_type": "execute_result",
          "data": {
            "text/plain": [
              "Month\n",
              "June         6528\n",
              "December     6331\n",
              "May          6262\n",
              "April        5518\n",
              "March        5448\n",
              "January      5030\n",
              "February     4966\n",
              "October      4714\n",
              "November     4652\n",
              "September    4372\n",
              "August       4354\n",
              "July         4030\n",
              "Name: count, dtype: int64"
            ],
            "text/html": [
              "<div>\n",
              "<style scoped>\n",
              "    .dataframe tbody tr th:only-of-type {\n",
              "        vertical-align: middle;\n",
              "    }\n",
              "\n",
              "    .dataframe tbody tr th {\n",
              "        vertical-align: top;\n",
              "    }\n",
              "\n",
              "    .dataframe thead th {\n",
              "        text-align: right;\n",
              "    }\n",
              "</style>\n",
              "<table border=\"1\" class=\"dataframe\">\n",
              "  <thead>\n",
              "    <tr style=\"text-align: right;\">\n",
              "      <th></th>\n",
              "      <th>count</th>\n",
              "    </tr>\n",
              "    <tr>\n",
              "      <th>Month</th>\n",
              "      <th></th>\n",
              "    </tr>\n",
              "  </thead>\n",
              "  <tbody>\n",
              "    <tr>\n",
              "      <th>June</th>\n",
              "      <td>6528</td>\n",
              "    </tr>\n",
              "    <tr>\n",
              "      <th>December</th>\n",
              "      <td>6331</td>\n",
              "    </tr>\n",
              "    <tr>\n",
              "      <th>May</th>\n",
              "      <td>6262</td>\n",
              "    </tr>\n",
              "    <tr>\n",
              "      <th>April</th>\n",
              "      <td>5518</td>\n",
              "    </tr>\n",
              "    <tr>\n",
              "      <th>March</th>\n",
              "      <td>5448</td>\n",
              "    </tr>\n",
              "    <tr>\n",
              "      <th>January</th>\n",
              "      <td>5030</td>\n",
              "    </tr>\n",
              "    <tr>\n",
              "      <th>February</th>\n",
              "      <td>4966</td>\n",
              "    </tr>\n",
              "    <tr>\n",
              "      <th>October</th>\n",
              "      <td>4714</td>\n",
              "    </tr>\n",
              "    <tr>\n",
              "      <th>November</th>\n",
              "      <td>4652</td>\n",
              "    </tr>\n",
              "    <tr>\n",
              "      <th>September</th>\n",
              "      <td>4372</td>\n",
              "    </tr>\n",
              "    <tr>\n",
              "      <th>August</th>\n",
              "      <td>4354</td>\n",
              "    </tr>\n",
              "    <tr>\n",
              "      <th>July</th>\n",
              "      <td>4030</td>\n",
              "    </tr>\n",
              "  </tbody>\n",
              "</table>\n",
              "</div><br><label><b>dtype:</b> int64</label>"
            ]
          },
          "metadata": {},
          "execution_count": 26
        }
      ],
      "source": [
        "# your code goes here\n",
        "sales['Month'].value_counts()"
      ]
    },
    {
      "cell_type": "code",
      "execution_count": null,
      "metadata": {
        "cell_type": "solution",
        "id": "mHheLZO3PJdW"
      },
      "outputs": [],
      "source": [
        "sales['Month'].value_counts()"
      ]
    },
    {
      "cell_type": "markdown",
      "metadata": {
        "id": "oPCYhQ81PJdW"
      },
      "source": [
        "Go ahead and show a <b>bar plot</b> with the previous data:"
      ]
    },
    {
      "cell_type": "code",
      "execution_count": null,
      "metadata": {
        "id": "MiRttRMGPJdW"
      },
      "outputs": [],
      "source": [
        "# your code goes here\n"
      ]
    },
    {
      "cell_type": "code",
      "execution_count": 27,
      "metadata": {
        "cell_type": "solution",
        "colab": {
          "base_uri": "https://localhost:8080/",
          "height": 433
        },
        "id": "rAhtDO1hPJdW",
        "outputId": "a3183d03-16e1-4e82-d18e-52243a52d19a"
      },
      "outputs": [
        {
          "output_type": "execute_result",
          "data": {
            "text/plain": [
              "<Axes: xlabel='Month'>"
            ]
          },
          "metadata": {},
          "execution_count": 27
        },
        {
          "output_type": "display_data",
          "data": {
            "text/plain": [
              "<Figure size 1400x600 with 1 Axes>"
            ],
            "image/png": "[encoded data removed]"
          },
          "metadata": {}
        }
      ],
      "source": [
        "sales['Month'].value_counts().plot(kind='bar', figsize=(14,6))"
      ]
    },
    {
      "cell_type": "markdown",
      "metadata": {
        "id": "c5fqFYMCPJdW"
      },
      "source": [
        "![green-divider](https://user-images.githubusercontent.com/7065401/52071924-c003ad80-2562-11e9-8297-1c6595f8a7ff.png)\n",
        "\n",
        "### Which country has the most sales `quantity of sales`?"
      ]
    },
    {
      "cell_type": "code",
      "execution_count": 28,
      "metadata": {
        "colab": {
          "base_uri": "https://localhost:8080/",
          "height": 303
        },
        "id": "c5C0fmr_PJdX",
        "outputId": "ec644e13-be12-475b-f5f4-7eceb51692fd"
      },
      "outputs": [
        {
          "output_type": "execute_result",
          "data": {
            "text/plain": [
              "Country\n",
              "United States     22352\n",
              "Australia         12452\n",
              "United Kingdom     7594\n",
              "Canada             7300\n",
              "Germany            6420\n",
              "France             6086\n",
              "Name: count, dtype: int64"
            ],
            "text/html": [
              "<div>\n",
              "<style scoped>\n",
              "    .dataframe tbody tr th:only-of-type {\n",
              "        vertical-align: middle;\n",
              "    }\n",
              "\n",
              "    .dataframe tbody tr th {\n",
              "        vertical-align: top;\n",
              "    }\n",
              "\n",
              "    .dataframe thead th {\n",
              "        text-align: right;\n",
              "    }\n",
              "</style>\n",
              "<table border=\"1\" class=\"dataframe\">\n",
              "  <thead>\n",
              "    <tr style=\"text-align: right;\">\n",
              "      <th></th>\n",
              "      <th>count</th>\n",
              "    </tr>\n",
              "    <tr>\n",
              "      <th>Country</th>\n",
              "      <th></th>\n",
              "    </tr>\n",
              "  </thead>\n",
              "  <tbody>\n",
              "    <tr>\n",
              "      <th>United States</th>\n",
              "      <td>22352</td>\n",
              "    </tr>\n",
              "    <tr>\n",
              "      <th>Australia</th>\n",
              "      <td>12452</td>\n",
              "    </tr>\n",
              "    <tr>\n",
              "      <th>United Kingdom</th>\n",
              "      <td>7594</td>\n",
              "    </tr>\n",
              "    <tr>\n",
              "      <th>Canada</th>\n",
              "      <td>7300</td>\n",
              "    </tr>\n",
              "    <tr>\n",
              "      <th>Germany</th>\n",
              "      <td>6420</td>\n",
              "    </tr>\n",
              "    <tr>\n",
              "      <th>France</th>\n",
              "      <td>6086</td>\n",
              "    </tr>\n",
              "  </tbody>\n",
              "</table>\n",
              "</div><br><label><b>dtype:</b> int64</label>"
            ]
          },
          "metadata": {},
          "execution_count": 28
        }
      ],
      "source": [
        "# your code goes here\n",
        "sales['Country'].value_counts()"
      ]
    },
    {
      "cell_type": "code",
      "execution_count": 29,
      "metadata": {
        "cell_type": "solution",
        "colab": {
          "base_uri": "https://localhost:8080/",
          "height": 147
        },
        "id": "F6jqiPVyPJdX",
        "outputId": "b969be05-b0ca-4860-b3e1-56006687abe7"
      },
      "outputs": [
        {
          "output_type": "execute_result",
          "data": {
            "text/plain": [
              "Country\n",
              "United States    22352\n",
              "Name: count, dtype: int64"
            ],
            "text/html": [
              "<div>\n",
              "<style scoped>\n",
              "    .dataframe tbody tr th:only-of-type {\n",
              "        vertical-align: middle;\n",
              "    }\n",
              "\n",
              "    .dataframe tbody tr th {\n",
              "        vertical-align: top;\n",
              "    }\n",
              "\n",
              "    .dataframe thead th {\n",
              "        text-align: right;\n",
              "    }\n",
              "</style>\n",
              "<table border=\"1\" class=\"dataframe\">\n",
              "  <thead>\n",
              "    <tr style=\"text-align: right;\">\n",
              "      <th></th>\n",
              "      <th>count</th>\n",
              "    </tr>\n",
              "    <tr>\n",
              "      <th>Country</th>\n",
              "      <th></th>\n",
              "    </tr>\n",
              "  </thead>\n",
              "  <tbody>\n",
              "    <tr>\n",
              "      <th>United States</th>\n",
              "      <td>22352</td>\n",
              "    </tr>\n",
              "  </tbody>\n",
              "</table>\n",
              "</div><br><label><b>dtype:</b> int64</label>"
            ]
          },
          "metadata": {},
          "execution_count": 29
        }
      ],
      "source": [
        "sales['Country'].value_counts().head(1)"
      ]
    },
    {
      "cell_type": "code",
      "execution_count": null,
      "metadata": {
        "cell_type": "solution",
        "id": "bngi-bwjPJdX"
      },
      "outputs": [],
      "source": [
        "sales['Country'].value_counts()"
      ]
    },
    {
      "cell_type": "markdown",
      "metadata": {
        "id": "5u9lCzwhPJdX"
      },
      "source": [
        "Go ahead and show a <b>bar plot</b> of the sales per country:"
      ]
    },
    {
      "cell_type": "code",
      "execution_count": 30,
      "metadata": {
        "colab": {
          "base_uri": "https://localhost:8080/",
          "height": 452
        },
        "id": "WZvz5RgAPJdX",
        "outputId": "9098718c-8a14-474b-d9ca-02636682d646"
      },
      "outputs": [
        {
          "output_type": "execute_result",
          "data": {
            "text/plain": [
              "<Axes: xlabel='Country'>"
            ]
          },
          "metadata": {},
          "execution_count": 30
        },
        {
          "output_type": "display_data",
          "data": {
            "text/plain": [
              "<Figure size 1400x600 with 1 Axes>"
            ],
            "image/png": "[encoded data removed]"
          },
          "metadata": {}
        }
      ],
      "source": [
        "# your code goes here\n",
        "sales['Country'].value_counts().plot(kind= 'bar', figsize= (14,6))"
      ]
    },
    {
      "cell_type": "code",
      "execution_count": null,
      "metadata": {
        "cell_type": "solution",
        "id": "olVwrIEpPJdX"
      },
      "outputs": [],
      "source": [
        "sales['Country'].value_counts().plot(kind='bar', figsize=(14,6))"
      ]
    },
    {
      "cell_type": "markdown",
      "metadata": {
        "id": "NeCCTP4ePJdX"
      },
      "source": [
        "![green-divider](https://user-images.githubusercontent.com/7065401/52071924-c003ad80-2562-11e9-8297-1c6595f8a7ff.png)\n",
        "\n",
        "### Create a list of every product sold"
      ]
    },
    {
      "cell_type": "code",
      "execution_count": null,
      "metadata": {
        "id": "prKgLWMKPJdX"
      },
      "outputs": [],
      "source": [
        "# your code goes here\n"
      ]
    },
    {
      "cell_type": "code",
      "execution_count": 31,
      "metadata": {
        "cell_type": "solution",
        "colab": {
          "base_uri": "https://localhost:8080/"
        },
        "id": "gc9Ci9c1PJdX",
        "outputId": "a8ae6607-e89c-4a4c-9f07-d5faeb29bb06"
      },
      "outputs": [
        {
          "output_type": "execute_result",
          "data": {
            "text/plain": [
              "array(['Hitch Rack - 4-Bike', 'All-Purpose Bike Stand',\n",
              "       'Mountain Bottle Cage', 'Water Bottle - 30 oz.',\n",
              "       'Road Bottle Cage', 'AWC Logo Cap', 'Bike Wash - Dissolver',\n",
              "       'Fender Set - Mountain', 'Half-Finger Gloves, L',\n",
              "       'Half-Finger Gloves, M', 'Half-Finger Gloves, S',\n",
              "       'Sport-100 Helmet, Black', 'Sport-100 Helmet, Red',\n",
              "       'Sport-100 Helmet, Blue', 'Hydration Pack - 70 oz.',\n",
              "       'Short-Sleeve Classic Jersey, XL',\n",
              "       'Short-Sleeve Classic Jersey, L', 'Short-Sleeve Classic Jersey, M',\n",
              "       'Short-Sleeve Classic Jersey, S', 'Long-Sleeve Logo Jersey, M',\n",
              "       'Long-Sleeve Logo Jersey, XL', 'Long-Sleeve Logo Jersey, L',\n",
              "       'Long-Sleeve Logo Jersey, S', 'Mountain-100 Silver, 38',\n",
              "       'Mountain-100 Silver, 44', 'Mountain-100 Black, 48',\n",
              "       'Mountain-100 Silver, 48', 'Mountain-100 Black, 38',\n",
              "       'Mountain-200 Silver, 38', 'Mountain-100 Black, 44',\n",
              "       'Mountain-100 Silver, 42', 'Mountain-200 Black, 46',\n",
              "       'Mountain-200 Silver, 42', 'Mountain-200 Silver, 46',\n",
              "       'Mountain-200 Black, 38', 'Mountain-100 Black, 42',\n",
              "       'Mountain-200 Black, 42', 'Mountain-400-W Silver, 46',\n",
              "       'Mountain-500 Silver, 40', 'Mountain-500 Silver, 44',\n",
              "       'Mountain-500 Black, 48', 'Mountain-500 Black, 40',\n",
              "       'Mountain-400-W Silver, 42', 'Mountain-500 Silver, 52',\n",
              "       'Mountain-500 Black, 52', 'Mountain-500 Silver, 42',\n",
              "       'Mountain-500 Black, 44', 'Mountain-500 Silver, 48',\n",
              "       'Mountain-400-W Silver, 38', 'Mountain-400-W Silver, 40',\n",
              "       'Mountain-500 Black, 42', 'Road-150 Red, 48', 'Road-150 Red, 62',\n",
              "       'Road-750 Black, 48', 'Road-750 Black, 58', 'Road-750 Black, 52',\n",
              "       'Road-150 Red, 52', 'Road-150 Red, 44', 'Road-150 Red, 56',\n",
              "       'Road-750 Black, 44', 'Road-350-W Yellow, 40',\n",
              "       'Road-350-W Yellow, 42', 'Road-250 Black, 44',\n",
              "       'Road-250 Black, 48', 'Road-350-W Yellow, 48',\n",
              "       'Road-550-W Yellow, 44', 'Road-550-W Yellow, 38',\n",
              "       'Road-250 Black, 52', 'Road-550-W Yellow, 48', 'Road-250 Red, 58',\n",
              "       'Road-250 Black, 58', 'Road-250 Red, 52', 'Road-250 Red, 48',\n",
              "       'Road-250 Red, 44', 'Road-550-W Yellow, 42',\n",
              "       'Road-550-W Yellow, 40', 'Road-650 Red, 48', 'Road-650 Red, 60',\n",
              "       'Road-650 Black, 48', 'Road-350-W Yellow, 44', 'Road-650 Red, 52',\n",
              "       'Road-650 Black, 44', 'Road-650 Red, 62', 'Road-650 Red, 58',\n",
              "       'Road-650 Black, 60', 'Road-650 Black, 58', 'Road-650 Black, 52',\n",
              "       'Road-650 Black, 62', 'Road-650 Red, 44', nan], dtype=object)"
            ]
          },
          "metadata": {},
          "execution_count": 31
        }
      ],
      "source": [
        "#sales.loc[:, 'Product'].unique()\n",
        "\n",
        "sales['Product'].unique()"
      ]
    },
    {
      "cell_type": "markdown",
      "metadata": {
        "id": "c34cL6KuPJdX"
      },
      "source": [
        "Create a **bar plot** showing the 10 most sold products (best sellers):"
      ]
    },
    {
      "cell_type": "code",
      "execution_count": 33,
      "metadata": {
        "colab": {
          "base_uri": "https://localhost:8080/",
          "height": 492
        },
        "id": "Y9N-YtO4PJdY",
        "outputId": "30934f72-9d65-4a3b-c7d6-9c7bcb02860e"
      },
      "outputs": [
        {
          "output_type": "execute_result",
          "data": {
            "text/plain": [
              "<Axes: xlabel='Product'>"
            ]
          },
          "metadata": {},
          "execution_count": 33
        },
        {
          "output_type": "display_data",
          "data": {
            "text/plain": [
              "<Figure size 1400x600 with 1 Axes>"
            ],
            "image/png": "[encoded data removed]"
          },
          "metadata": {}
        }
      ],
      "source": [
        "# your code goes here\n",
        "sales['Product'].value_counts().head(10).plot(kind='bar',figsize =(14,6))"
      ]
    },
    {
      "cell_type": "code",
      "execution_count": null,
      "metadata": {
        "cell_type": "solution",
        "id": "C-31bw05PJdY"
      },
      "outputs": [],
      "source": [
        "sales['Product'].value_counts().head(10).plot(kind='bar', figsize=(14,6))"
      ]
    },
    {
      "cell_type": "markdown",
      "metadata": {
        "id": "DfPc2QIJPJdY"
      },
      "source": [
        "![green-divider](https://user-images.githubusercontent.com/7065401/52071924-c003ad80-2562-11e9-8297-1c6595f8a7ff.png)\n",
        "\n",
        "### Can you see any relationship between `Unit_Cost` and `Unit_Price`?\n",
        "\n",
        "Show a <b>scatter plot</b> between both columns."
      ]
    },
    {
      "cell_type": "code",
      "execution_count": null,
      "metadata": {
        "id": "swOQg-AFPJdY"
      },
      "outputs": [],
      "source": [
        "# your code goes here\n"
      ]
    },
    {
      "cell_type": "code",
      "execution_count": 34,
      "metadata": {
        "cell_type": "solution",
        "colab": {
          "base_uri": "https://localhost:8080/",
          "height": 560
        },
        "id": "gKB_DCrmPJdY",
        "outputId": "02dec33a-9b37-436f-b347-09afe0f85af9"
      },
      "outputs": [
        {
          "output_type": "execute_result",
          "data": {
            "text/plain": [
              "<Axes: xlabel='Unit_Cost', ylabel='Unit_Price'>"
            ]
          },
          "metadata": {},
          "execution_count": 34
        },
        {
          "output_type": "display_data",
          "data": {
            "text/plain": [
              "<Figure size 600x600 with 1 Axes>"
            ],
            "image/png": "[encoded data removed]"
          },
          "metadata": {}
        }
      ],
      "source": [
        "sales.plot(kind='scatter', x='Unit_Cost', y='Unit_Price', figsize=(6,6))"
      ]
    },
    {
      "cell_type": "markdown",
      "metadata": {
        "id": "c7aKprmzPJdY"
      },
      "source": [
        "![green-divider](https://user-images.githubusercontent.com/7065401/52071924-c003ad80-2562-11e9-8297-1c6595f8a7ff.png)\n",
        "\n",
        "### Can you see any relationship between `Order_Quantity` and `Profit`?\n",
        "\n",
        "Show a <b>scatter plot</b> between both columns."
      ]
    },
    {
      "cell_type": "code",
      "execution_count": null,
      "metadata": {
        "id": "p8KtHVYDPJdY"
      },
      "outputs": [],
      "source": [
        "# your code goes here\n"
      ]
    },
    {
      "cell_type": "code",
      "execution_count": null,
      "metadata": {
        "cell_type": "solution",
        "id": "sW8RkR0dPJdY"
      },
      "outputs": [],
      "source": [
        "sales.plot(kind='scatter', x='Order_Quantity', y='Profit', figsize=(6,6))"
      ]
    },
    {
      "cell_type": "markdown",
      "metadata": {
        "id": "l9py_K0aPJdY"
      },
      "source": [
        "![green-divider](https://user-images.githubusercontent.com/7065401/52071924-c003ad80-2562-11e9-8297-1c6595f8a7ff.png)\n",
        "\n",
        "### Can you see any relationship between `Profit` per `Country`?\n",
        "\n",
        "Show a grouped <b>box plot</b> per country with the profit values."
      ]
    },
    {
      "cell_type": "code",
      "execution_count": null,
      "metadata": {
        "id": "5zY0DTdZPJdY"
      },
      "outputs": [],
      "source": [
        "# your code goes here\n"
      ]
    },
    {
      "cell_type": "code",
      "execution_count": null,
      "metadata": {
        "cell_type": "solution",
        "id": "9eql47W4PJdZ"
      },
      "outputs": [],
      "source": [
        "sales[['Profit', 'Country']].boxplot(by='Country', figsize=(10,6))"
      ]
    },
    {
      "cell_type": "markdown",
      "metadata": {
        "id": "uSTnjK93PJdZ"
      },
      "source": [
        "![green-divider](https://user-images.githubusercontent.com/7065401/52071924-c003ad80-2562-11e9-8297-1c6595f8a7ff.png)\n",
        "\n",
        "### Can you see any relationship between the `Customer_Age` per `Country`?\n",
        "\n",
        "Show a grouped <b>box plot</b> per country with the customer age values."
      ]
    },
    {
      "cell_type": "code",
      "execution_count": null,
      "metadata": {
        "id": "dthHv9H4PJdZ"
      },
      "outputs": [],
      "source": [
        "# your code goes here\n"
      ]
    },
    {
      "cell_type": "code",
      "execution_count": null,
      "metadata": {
        "cell_type": "solution",
        "id": "SXB6-qeiPJdZ"
      },
      "outputs": [],
      "source": [
        "sales[['Customer_Age', 'Country']].boxplot(by='Country', figsize=(10,6))"
      ]
    },
    {
      "cell_type": "markdown",
      "metadata": {
        "id": "U4zRkAWXPJdZ"
      },
      "source": [
        "![green-divider](https://user-images.githubusercontent.com/7065401/52071924-c003ad80-2562-11e9-8297-1c6595f8a7ff.png)\n",
        "\n",
        "### Add and calculate a new `Calculated_Date` column\n",
        "\n",
        "Use `Day`, `Month`, `Year` to create a `Date` column (`YYYY-MM-DD`)."
      ]
    },
    {
      "cell_type": "code",
      "execution_count": null,
      "metadata": {
        "id": "5BKGclTAPJdZ"
      },
      "outputs": [],
      "source": [
        "# your code goes here\n"
      ]
    },
    {
      "cell_type": "code",
      "execution_count": null,
      "metadata": {
        "cell_type": "solution",
        "id": "nvqqfxqgPJdZ"
      },
      "outputs": [],
      "source": [
        "sales['Calculated_Date'] = sales[['Year', 'Month', 'Day']].apply(lambda x: '{}-{}-{}'.format(x[0], x[1], x[2]), axis=1)\n",
        "\n",
        "sales['Calculated_Date'].head()"
      ]
    },
    {
      "cell_type": "markdown",
      "metadata": {
        "id": "f05V3XhdPJdZ"
      },
      "source": [
        "![green-divider](https://user-images.githubusercontent.com/7065401/52071924-c003ad80-2562-11e9-8297-1c6595f8a7ff.png)\n",
        "\n",
        "### Parse your `Calculated_Date` column into a datetime object"
      ]
    },
    {
      "cell_type": "code",
      "execution_count": null,
      "metadata": {
        "id": "sHt-Q7zDPJdZ"
      },
      "outputs": [],
      "source": [
        "# your code goes here\n"
      ]
    },
    {
      "cell_type": "code",
      "execution_count": null,
      "metadata": {
        "cell_type": "solution",
        "id": "xh3AT4UsPJda"
      },
      "outputs": [],
      "source": [
        "sales['Calculated_Date'] = pd.to_datetime(sales['Calculated_Date'])\n",
        "\n",
        "sales['Calculated_Date'].head()"
      ]
    },
    {
      "cell_type": "markdown",
      "metadata": {
        "id": "jOnW6R6xPJda"
      },
      "source": [
        "![green-divider](https://user-images.githubusercontent.com/7065401/52071924-c003ad80-2562-11e9-8297-1c6595f8a7ff.png)\n",
        "\n",
        "### How did sales evolve through the years?\n",
        "\n",
        "Show a <b>line plot</b> using `Calculated_Date` column as the x-axis and the count of sales as the y-axis."
      ]
    },
    {
      "cell_type": "code",
      "execution_count": null,
      "metadata": {
        "id": "aYVbanQHPJda"
      },
      "outputs": [],
      "source": [
        "# your code goes here\n"
      ]
    },
    {
      "cell_type": "code",
      "execution_count": null,
      "metadata": {
        "cell_type": "solution",
        "id": "GucVKXLgPJda"
      },
      "outputs": [],
      "source": [
        "sales['Calculated_Date'].value_counts().plot(kind='line', figsize=(14,6))"
      ]
    },
    {
      "cell_type": "markdown",
      "metadata": {
        "id": "Q1eHtsmxPJda"
      },
      "source": [
        "![green-divider](https://user-images.githubusercontent.com/7065401/52071924-c003ad80-2562-11e9-8297-1c6595f8a7ff.png)\n",
        "\n",
        "### Increase 50 U$S revenue to every sale"
      ]
    },
    {
      "cell_type": "code",
      "execution_count": null,
      "metadata": {
        "id": "TMETgoQGPJda"
      },
      "outputs": [],
      "source": [
        "# your code goes here\n"
      ]
    },
    {
      "cell_type": "code",
      "execution_count": null,
      "metadata": {
        "cell_type": "solution",
        "id": "nl0F4PG1PJda"
      },
      "outputs": [],
      "source": [
        "#sales['Revenue'] = sales['Revenue'] + 50\n",
        "\n",
        "sales['Revenue'] += 50"
      ]
    },
    {
      "cell_type": "markdown",
      "metadata": {
        "id": "70YWKoXWPJda"
      },
      "source": [
        "![green-divider](https://user-images.githubusercontent.com/7065401/52071924-c003ad80-2562-11e9-8297-1c6595f8a7ff.png)\n",
        "\n",
        "### How many orders were made in `Canada` or `France`?"
      ]
    },
    {
      "cell_type": "code",
      "execution_count": null,
      "metadata": {
        "id": "NOH2PIg6PJda"
      },
      "outputs": [],
      "source": [
        "# your code goes here\n"
      ]
    },
    {
      "cell_type": "code",
      "execution_count": null,
      "metadata": {
        "cell_type": "solution",
        "id": "Xa6qOddmPJda"
      },
      "outputs": [],
      "source": [
        "sales.loc[(sales['Country'] == 'Canada') | (sales['Country'] == 'France')].shape[0]"
      ]
    },
    {
      "cell_type": "markdown",
      "metadata": {
        "id": "NXMX2qoEPJda"
      },
      "source": [
        "![green-divider](https://user-images.githubusercontent.com/7065401/52071924-c003ad80-2562-11e9-8297-1c6595f8a7ff.png)\n",
        "\n",
        "### How many `Bike Racks` orders were made from Canada?"
      ]
    },
    {
      "cell_type": "code",
      "execution_count": null,
      "metadata": {
        "id": "WCelVO6BPJda"
      },
      "outputs": [],
      "source": [
        "# your code goes here\n"
      ]
    },
    {
      "cell_type": "code",
      "execution_count": null,
      "metadata": {
        "cell_type": "solution",
        "id": "1OuxF0HRPJda"
      },
      "outputs": [],
      "source": [
        "sales.loc[(sales['Country'] == 'Canada') & (sales['Sub_Category'] == 'Bike Racks')].shape[0]"
      ]
    },
    {
      "cell_type": "markdown",
      "metadata": {
        "id": "nXppEc38PJda"
      },
      "source": [
        "![green-divider](https://user-images.githubusercontent.com/7065401/52071924-c003ad80-2562-11e9-8297-1c6595f8a7ff.png)\n",
        "\n",
        "### How many orders were made in each region (state) of France?"
      ]
    },
    {
      "cell_type": "code",
      "execution_count": null,
      "metadata": {
        "id": "UHfQyc3EPJdb"
      },
      "outputs": [],
      "source": [
        "# your code goes here\n"
      ]
    },
    {
      "cell_type": "code",
      "execution_count": null,
      "metadata": {
        "cell_type": "solution",
        "id": "b-0sdm9aPJdb"
      },
      "outputs": [],
      "source": [
        "france_states = sales.loc[sales['Country'] == 'France', 'State'].value_counts()\n",
        "\n",
        "france_states"
      ]
    },
    {
      "cell_type": "markdown",
      "metadata": {
        "id": "ASfRAngwPJdb"
      },
      "source": [
        "Go ahead and show a <b>bar plot</b> with the results:"
      ]
    },
    {
      "cell_type": "code",
      "execution_count": null,
      "metadata": {
        "id": "FbeaVQUAPJdb"
      },
      "outputs": [],
      "source": [
        "# your code goes here\n"
      ]
    },
    {
      "cell_type": "code",
      "execution_count": null,
      "metadata": {
        "cell_type": "solution",
        "id": "QWEsVtsBPJdb"
      },
      "outputs": [],
      "source": [
        "france_states.plot(kind='bar', figsize=(14,6))"
      ]
    },
    {
      "cell_type": "markdown",
      "metadata": {
        "id": "9DS2jKDAPJdb"
      },
      "source": [
        "![green-divider](https://user-images.githubusercontent.com/7065401/52071924-c003ad80-2562-11e9-8297-1c6595f8a7ff.png)\n",
        "\n",
        "### How many sales were made per category?"
      ]
    },
    {
      "cell_type": "code",
      "execution_count": null,
      "metadata": {
        "id": "jT6QfokuPJdb"
      },
      "outputs": [],
      "source": [
        "# your code goes here\n"
      ]
    },
    {
      "cell_type": "code",
      "execution_count": null,
      "metadata": {
        "cell_type": "solution",
        "id": "9E9nzzKwPJdb"
      },
      "outputs": [],
      "source": [
        "sales['Product_Category'].value_counts()"
      ]
    },
    {
      "cell_type": "markdown",
      "metadata": {
        "id": "YX_pmACYPJdb"
      },
      "source": [
        "Go ahead and show a <b>pie plot</b> with the results:"
      ]
    },
    {
      "cell_type": "code",
      "execution_count": null,
      "metadata": {
        "id": "BKzJj17iPJdb"
      },
      "outputs": [],
      "source": [
        "# your code goes here\n"
      ]
    },
    {
      "cell_type": "code",
      "execution_count": null,
      "metadata": {
        "cell_type": "solution",
        "id": "St8XzJUrPJdb"
      },
      "outputs": [],
      "source": [
        "sales['Product_Category'].value_counts().plot(kind='pie', figsize=(6,6))"
      ]
    },
    {
      "cell_type": "markdown",
      "metadata": {
        "id": "xylWBuEnPJdb"
      },
      "source": [
        "![green-divider](https://user-images.githubusercontent.com/7065401/52071924-c003ad80-2562-11e9-8297-1c6595f8a7ff.png)\n",
        "\n",
        "### How many orders were made per accessory sub-categories?"
      ]
    },
    {
      "cell_type": "code",
      "execution_count": null,
      "metadata": {
        "id": "J9C7PGqsPJdb"
      },
      "outputs": [],
      "source": [
        "# your code goes here\n"
      ]
    },
    {
      "cell_type": "code",
      "execution_count": null,
      "metadata": {
        "cell_type": "solution",
        "id": "wda3GesXPJdc"
      },
      "outputs": [],
      "source": [
        "accessories = sales.loc[sales['Product_Category'] == 'Accessories', 'Sub_Category'].value_counts()\n",
        "\n",
        "accessories"
      ]
    },
    {
      "cell_type": "markdown",
      "metadata": {
        "id": "0uqlqYEvPJdc"
      },
      "source": [
        "Go ahead and show a <b>bar plot</b> with the results:"
      ]
    },
    {
      "cell_type": "code",
      "execution_count": null,
      "metadata": {
        "id": "L9eKW2DFPJdc"
      },
      "outputs": [],
      "source": [
        "# your code goes here\n"
      ]
    },
    {
      "cell_type": "code",
      "execution_count": null,
      "metadata": {
        "cell_type": "solution",
        "id": "mkz3x-VWPJdc"
      },
      "outputs": [],
      "source": [
        "accessories.plot(kind='bar', figsize=(14,6))"
      ]
    },
    {
      "cell_type": "markdown",
      "metadata": {
        "id": "OJ_oFlQ9PJdc"
      },
      "source": [
        "![green-divider](https://user-images.githubusercontent.com/7065401/52071924-c003ad80-2562-11e9-8297-1c6595f8a7ff.png)\n",
        "\n",
        "### How many orders were made per bike sub-categories?"
      ]
    },
    {
      "cell_type": "code",
      "execution_count": null,
      "metadata": {
        "id": "7eFUWb1KPJdc"
      },
      "outputs": [],
      "source": [
        "# your code goes here\n"
      ]
    },
    {
      "cell_type": "code",
      "execution_count": null,
      "metadata": {
        "cell_type": "solution",
        "id": "MWHsLZQgPJdc"
      },
      "outputs": [],
      "source": [
        "bikes = sales.loc[sales['Product_Category'] == 'Bikes', 'Sub_Category'].value_counts()\n",
        "\n",
        "bikes"
      ]
    },
    {
      "cell_type": "markdown",
      "metadata": {
        "id": "iq039oFpPJdc"
      },
      "source": [
        "Go ahead and show a <b>pie plot</b> with the results:"
      ]
    },
    {
      "cell_type": "code",
      "execution_count": null,
      "metadata": {
        "id": "sNcW2pwWPJdc"
      },
      "outputs": [],
      "source": [
        "# your code goes here\n"
      ]
    },
    {
      "cell_type": "code",
      "execution_count": null,
      "metadata": {
        "cell_type": "solution",
        "id": "WwMNsIlpPJdc"
      },
      "outputs": [],
      "source": [
        "bikes.plot(kind='pie', figsize=(6,6))"
      ]
    },
    {
      "cell_type": "markdown",
      "metadata": {
        "id": "mFx4CJtXPJdc"
      },
      "source": [
        "![green-divider](https://user-images.githubusercontent.com/7065401/52071924-c003ad80-2562-11e9-8297-1c6595f8a7ff.png)\n",
        "\n",
        "### Which gender has the most amount of sales?"
      ]
    },
    {
      "cell_type": "code",
      "execution_count": null,
      "metadata": {
        "id": "npNlshqzPJdc"
      },
      "outputs": [],
      "source": [
        "# your code goes here\n"
      ]
    },
    {
      "cell_type": "code",
      "execution_count": null,
      "metadata": {
        "cell_type": "solution",
        "id": "3O7b5JAQPJdc"
      },
      "outputs": [],
      "source": [
        "sales['Customer_Gender'].value_counts()"
      ]
    },
    {
      "cell_type": "code",
      "execution_count": null,
      "metadata": {
        "cell_type": "solution",
        "id": "wIoWAaeePJdc"
      },
      "outputs": [],
      "source": [
        "sales['Customer_Gender'].value_counts().plot(kind='bar')"
      ]
    },
    {
      "cell_type": "markdown",
      "metadata": {
        "id": "UAePI2BuPJdc"
      },
      "source": [
        "![green-divider](https://user-images.githubusercontent.com/7065401/52071924-c003ad80-2562-11e9-8297-1c6595f8a7ff.png)\n",
        "\n",
        "### How many sales with more than 500 in `Revenue` were made by men?"
      ]
    },
    {
      "cell_type": "code",
      "execution_count": null,
      "metadata": {
        "id": "2-P5P5KtPJdd"
      },
      "outputs": [],
      "source": [
        "# your code goes here\n"
      ]
    },
    {
      "cell_type": "code",
      "execution_count": null,
      "metadata": {
        "cell_type": "solution",
        "id": "I-O28HofPJdd"
      },
      "outputs": [],
      "source": [
        "sales.loc[(sales['Customer_Gender'] == 'M') & (sales['Revenue'] == 500)].shape[0]"
      ]
    },
    {
      "cell_type": "markdown",
      "metadata": {
        "id": "RKYsmDeOPJdd"
      },
      "source": [
        "![green-divider](https://user-images.githubusercontent.com/7065401/52071924-c003ad80-2562-11e9-8297-1c6595f8a7ff.png)\n",
        "\n",
        "### Get the top-5 sales with the highest revenue"
      ]
    },
    {
      "cell_type": "code",
      "execution_count": null,
      "metadata": {
        "id": "7C04MeWZPJdd"
      },
      "outputs": [],
      "source": [
        "# your code goes here\n"
      ]
    },
    {
      "cell_type": "code",
      "execution_count": null,
      "metadata": {
        "cell_type": "solution",
        "id": "BDWvKBKxPJdd"
      },
      "outputs": [],
      "source": [
        "sales.sort_values(['Revenue'], ascending=False).head(5)"
      ]
    },
    {
      "cell_type": "markdown",
      "metadata": {
        "id": "FBtWjy9_PJdd"
      },
      "source": [
        "![green-divider](https://user-images.githubusercontent.com/7065401/52071924-c003ad80-2562-11e9-8297-1c6595f8a7ff.png)\n",
        "\n",
        "### Get the sale with the highest revenue"
      ]
    },
    {
      "cell_type": "code",
      "execution_count": null,
      "metadata": {
        "id": "TpRbXA_4PJdd"
      },
      "outputs": [],
      "source": [
        "# your code goes here\n"
      ]
    },
    {
      "cell_type": "code",
      "execution_count": null,
      "metadata": {
        "cell_type": "solution",
        "id": "1O0b8dPgPJdd"
      },
      "outputs": [],
      "source": [
        "#sales.sort_values(['Revenue'], ascending=False).head(1)\n",
        "\n",
        "cond = sales['Revenue'] == sales['Revenue'].max()\n",
        "\n",
        "sales.loc[cond]"
      ]
    },
    {
      "cell_type": "markdown",
      "metadata": {
        "id": "WoIgMR6dPJdd"
      },
      "source": [
        "![green-divider](https://user-images.githubusercontent.com/7065401/52071924-c003ad80-2562-11e9-8297-1c6595f8a7ff.png)\n",
        "\n",
        "### What is the mean `Order_Quantity` of orders with more than 10K in revenue?"
      ]
    },
    {
      "cell_type": "code",
      "execution_count": null,
      "metadata": {
        "id": "tP4AUGs3PJdd"
      },
      "outputs": [],
      "source": [
        "# your code goes here\n"
      ]
    },
    {
      "cell_type": "code",
      "execution_count": null,
      "metadata": {
        "cell_type": "solution",
        "id": "UpJJoCn4PJdd"
      },
      "outputs": [],
      "source": [
        "cond = sales['Revenue'] > 10_000\n",
        "\n",
        "sales.loc[cond, 'Order_Quantity'].mean()"
      ]
    },
    {
      "cell_type": "markdown",
      "metadata": {
        "id": "CTjKJofnPJdd"
      },
      "source": [
        "![green-divider](https://user-images.githubusercontent.com/7065401/52071924-c003ad80-2562-11e9-8297-1c6595f8a7ff.png)\n",
        "\n",
        "### What is the mean `Order_Quantity` of orders with less than 10K in revenue?"
      ]
    },
    {
      "cell_type": "code",
      "execution_count": null,
      "metadata": {
        "id": "xxqXK6xzPJdd"
      },
      "outputs": [],
      "source": [
        "# your code goes here\n"
      ]
    },
    {
      "cell_type": "code",
      "execution_count": null,
      "metadata": {
        "cell_type": "solution",
        "id": "sLuDm_fnPJdd"
      },
      "outputs": [],
      "source": [
        "cond = sales['Revenue'] < 10_000\n",
        "\n",
        "sales.loc[cond, 'Order_Quantity'].mean()"
      ]
    },
    {
      "cell_type": "markdown",
      "metadata": {
        "id": "SKCm0E4XPJdd"
      },
      "source": [
        "![green-divider](https://user-images.githubusercontent.com/7065401/52071924-c003ad80-2562-11e9-8297-1c6595f8a7ff.png)\n",
        "\n",
        "### How many orders were made in May of 2016?"
      ]
    },
    {
      "cell_type": "code",
      "execution_count": null,
      "metadata": {
        "id": "dQaI9ljlPJde"
      },
      "outputs": [],
      "source": [
        "# your code goes here\n"
      ]
    },
    {
      "cell_type": "code",
      "execution_count": null,
      "metadata": {
        "cell_type": "solution",
        "id": "XDxfmQdlPJde"
      },
      "outputs": [],
      "source": [
        "cond = (sales['Year'] == 2016) & (sales['Month'] == 'May')\n",
        "\n",
        "sales.loc[cond].shape[0]"
      ]
    },
    {
      "cell_type": "markdown",
      "metadata": {
        "id": "T28hbCn2PJde"
      },
      "source": [
        "![green-divider](https://user-images.githubusercontent.com/7065401/52071924-c003ad80-2562-11e9-8297-1c6595f8a7ff.png)\n",
        "\n",
        "### How many orders were made between May and July of 2016?"
      ]
    },
    {
      "cell_type": "code",
      "execution_count": null,
      "metadata": {
        "id": "3xQw37p8PJde"
      },
      "outputs": [],
      "source": [
        "# your code goes here\n"
      ]
    },
    {
      "cell_type": "code",
      "execution_count": null,
      "metadata": {
        "cell_type": "solution",
        "id": "CcvLWshtPJde"
      },
      "outputs": [],
      "source": [
        "cond = (sales['Year'] == 2016) & (sales['Month'].isin(['May', 'June', 'July']))\n",
        "\n",
        "sales.loc[cond].shape[0]"
      ]
    },
    {
      "cell_type": "markdown",
      "metadata": {
        "id": "a1I2cI3lPJde"
      },
      "source": [
        "Show a grouped <b>box plot</b> per month with the profit values."
      ]
    },
    {
      "cell_type": "code",
      "execution_count": null,
      "metadata": {
        "id": "styJhzSAPJde"
      },
      "outputs": [],
      "source": [
        "# your code goes here\n"
      ]
    },
    {
      "cell_type": "code",
      "execution_count": null,
      "metadata": {
        "cell_type": "solution",
        "id": "vdpSEgaQPJde"
      },
      "outputs": [],
      "source": [
        "profit_2016 = sales.loc[sales['Year'] == 2016, ['Profit', 'Month']]\n",
        "\n",
        "profit_2016.boxplot(by='Month', figsize=(14,6))"
      ]
    },
    {
      "cell_type": "markdown",
      "metadata": {
        "id": "qACWXxxQPJde"
      },
      "source": [
        "![green-divider](https://user-images.githubusercontent.com/7065401/52071924-c003ad80-2562-11e9-8297-1c6595f8a7ff.png)\n",
        "\n",
        "### Add 7.2% TAX on every sale `Unit_Price` within United States"
      ]
    },
    {
      "cell_type": "code",
      "execution_count": null,
      "metadata": {
        "id": "nqbG4vVsPJde"
      },
      "outputs": [],
      "source": [
        "# your code goes here\n"
      ]
    },
    {
      "cell_type": "code",
      "execution_count": null,
      "metadata": {
        "cell_type": "solution",
        "id": "QxIRdB-XPJde"
      },
      "outputs": [],
      "source": [
        "#sales.loc[sales['Country'] == 'United States', 'Unit_Price'] = sales.loc[sales['Country'] == 'United States', 'Unit_Price'] * 1.072\n",
        "\n",
        "sales.loc[sales['Country'] == 'United States', 'Unit_Price'] *= 1.072"
      ]
    },
    {
      "cell_type": "markdown",
      "metadata": {
        "id": "3lUMabLDPJde"
      },
      "source": [
        "![purple-divider](https://user-images.githubusercontent.com/7065401/52071927-c1cd7100-2562-11e9-908a-dde91ba14e59.png)"
      ]
    }
  ],
  "metadata": {
    "kernelspec": {
      "display_name": "Python 3",
      "language": "python",
      "name": "python3"
    },
    "language_info": {
      "codemirror_mode": {
        "name": "ipython",
        "version": 3
      },
      "file_extension": ".py",
      "mimetype": "text/x-python",
      "name": "python",
      "nbconvert_exporter": "python",
      "pygments_lexer": "ipython3",
      "version": "3.8.1"
    },
    "colab": {
      "provenance": []
    }
  },
  "nbformat": 4,
  "nbformat_minor": 0
}